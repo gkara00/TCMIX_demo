{
 "cells": [
  {
   "cell_type": "code",
   "execution_count": null,
   "metadata": {},
   "outputs": [],
   "source": [
    "import xarray as xr \n",
    "import numpy as np\n",
    "import cartopy.crs as ccrs\n",
    "import matplotlib.pyplot as plt\n",
    "import cartopy.feature as cfeature\n",
    "from cartopy.mpl.gridliner import LATITUDE_FORMATTER, LONGITUDE_FORMATTER\n",
    "\n",
    "%matplotlib inline"
   ]
  },
  {
   "cell_type": "code",
   "execution_count": null,
   "metadata": {},
   "outputs": [],
   "source": []
  },
  {
   "cell_type": "code",
   "execution_count": null,
   "metadata": {},
   "outputs": [],
   "source": [
    "def generate_plot(ds, var, tsp=-1, out_dir='./'):\n",
    "    '''This function creates a figure for a given xarray dataset and variable name\n",
    "    Input arguments: \n",
    "    - ds: xarray dataset \n",
    "    - var: variable name \n",
    "    - tsp: time frame index you want to plot. '-1' valuescorresponds to the last timeframe\n",
    "    '''\n",
    "    \n",
    "    # Find min/max value of the variable \n",
    "    vmin = ds[var][tsp,:].min().values\n",
    "    vmax = ds[var][tsp,:].max().values\n",
    "    \n",
    "    if var in 'sosstsst': \n",
    "        vmin=26.5; vmax=28.5\n",
    "    elif var in 'taum':\n",
    "        vmin=0; vmax=7\n",
    "        \n",
    "    if vmin == vmax: return\n",
    "    \n",
    "    levels = np.linspace(vmin,vmax,25, endpoint=True)\n",
    "    \n",
    "    # plot \n",
    "    fig, ax = plt.subplots(nrows=1, ncols=1, figsize=(8, 8), subplot_kw={'projection': ccrs.PlateCarree()})\n",
    "    ds[var][-1,:].plot.contourf(x='nav_lon', y='nav_lat', vmin=vmin, vmax=vmax, levels=levels,\\\n",
    "                                cmap='jet', cbar_kwargs={'aspect':40, 'orientation': 'horizontal', 'pad': 0.07, 'label': ''})\n",
    "    \n",
    "    # Customize grid lines\n",
    "    fig.canvas.draw()\n",
    "    gl = ax.gridlines(crs=ccrs.PlateCarree(), draw_labels=True, x_inline=False, y_inline=False,\n",
    "                  linewidth=1, color='k', alpha=0.3, linestyle='--')\n",
    "    gl.top_labels = False\n",
    "    gl.right_labels = False\n",
    "\n",
    "    ax.add_feature(cfeature.LAND)\n",
    "    ax.add_feature(cfeature.COASTLINE)\n",
    "    \n",
    "    # Add title \n",
    "    fig.suptitle(ds.name + ': ' + v, y=.94, weight='bold')\n",
    "    ax.set_title('Simulation time = ' + str(tsp+1) + 'h' )\n",
    "    \n",
    "    plt.show()\n",
    "    \n",
    "    # Save figure\n",
    "    filename = f\"./{var}d_{tsp:03d}.png\"\n",
    "    fig.savefig(out_dir + filename, dpi=300, bbox_inches='tight')\n",
    "\n",
    "\n",
    "# Plot the variables of the 'dsT' dataset/ netcdf files of 'grid_T' \n",
    "path = './' # set your own path to the model outputs\n",
    "dsT = xr.open_dataset(path + \"TKE_1h_00010901_00010903_grid_T.nc\")\n",
    "\n",
    "_vars = ['taum', 'sosstsst']\n",
    "out_folder = './'\n",
    "\n",
    "for v in _vars:\n",
    "        print(f'Generating plots for {v}...')\n",
    "    for t in range(36):\n",
    "        generate_plot(dsT, var, t, out_dir=out_folder)\n",
    "        "
   ]
  },
  {
   "cell_type": "code",
   "execution_count": null,
   "metadata": {},
   "outputs": [],
   "source": [
    "# Make an animation using ffmpeg\n",
    "# ffmpeg -framerate 10 -pattern_type glob -i '*.png' -r 72 -vf scale=512:-1 out.gif  ;\n"
   ]
  }
 ],
 "metadata": {
  "kernelspec": {
   "display_name": "Python 3",
   "language": "python",
   "name": "python3"
  },
  "language_info": {
   "codemirror_mode": {
    "name": "ipython",
    "version": 3
   },
   "file_extension": ".py",
   "mimetype": "text/x-python",
   "name": "python",
   "nbconvert_exporter": "python",
   "pygments_lexer": "ipython3",
   "version": "3.7.3"
  }
 },
 "nbformat": 4,
 "nbformat_minor": 2
}
